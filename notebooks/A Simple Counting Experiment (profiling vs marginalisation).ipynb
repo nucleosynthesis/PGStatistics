{
 "cells": [
  {
   "cell_type": "markdown",
   "metadata": {},
   "source": [
    "# A simple counting experiment\n",
    "\n",
    "For our simple \"HEP\"-inspired counting experiment from the lectures, we can write the likelihood as, \n",
    "\n",
    "$$\n",
    "L(\\mu,\\eta) = \\lambda(\\mu,\\eta)^{n}e^{-\\lambda}\\cdot c^{-\\frac{1}{2}\\eta^{2}}\n",
    "$$\n",
    "\n",
    "where we've dropped the $n!$ in the likelihood (for reasons that will be clear in the future). $\\mu$ is the parameter of interest (relating our measured cross-section to some hypothetical one) and $\\eta$ is our nuisance parameter that encodes our uncertainty on the luminosity, \n",
    "\n",
    "$$\n",
    "\\lambda(\\mu,\\eta) = \\mu\\sigma(pp\\rightarrow \\mathrm{X})A\\epsilon l_{0}\\cdot(1+\\kappa)^{\\eta}+B\n",
    "$$\n",
    "\n",
    "We'll assume that we have some specified values given to us,  "
   ]
  },
  {
   "cell_type": "code",
   "execution_count": null,
   "metadata": {},
   "outputs": [],
   "source": [
    "%matplotlib notebook\n",
    "\n",
    "import numpy\n",
    "import matplotlib.pyplot as plt\n",
    "plt.rcParams.update({'font.size': 14})\n",
    "\n",
    "sigma_TH = 0.01\n",
    "A   = 0.5\n",
    "eff = 0.9\n",
    "l   = 100.\n",
    "k   = 0.1\n",
    "B   = 1.0\n",
    "n   = 2 # our measured data"
   ]
  },
  {
   "cell_type": "markdown",
   "metadata": {},
   "source": [
    "And with these we can specify the Poisson term,"
   ]
  },
  {
   "cell_type": "code",
   "execution_count": null,
   "metadata": {},
   "outputs": [],
   "source": [
    "# Poisson mean\n",
    "def lamb(mu,eta):\n",
    "  return mu*eff*A*l*((1+k)**eta)*sigma_TH + B"
   ]
  },
  {
   "cell_type": "markdown",
   "metadata": {},
   "source": [
    "Our aim here will be to remove the dependence of the likelihood (and therefore our infrence on $\\mu$) on the parameter $\\eta$. As explained in lectures, there are two ways  to procede common in HEP, profiling, or marginaisation. "
   ]
  },
  {
   "cell_type": "markdown",
   "metadata": {},
   "source": [
    "##  Profiling\n",
    "\n",
    "Profiling is the method of  removing the dependence on $\\eta$ through finding the values of $\\eta$ for which $L(\\mu,\\eta)$ is maximised at each value of $\\mu$. Thus $\\eta$ becomes a function of $\\mu$, i.e \n",
    "\n",
    "$$\n",
    "L(\\mu,\\eta)\\rightarrow L(\\mu,\\eta(\\mu))\n",
    "$$\n",
    "\n",
    "Often, since we deal with exponentials, its easier to minimize a negative log-likelihood, than maximise a likelihood. So let's write down the negative log-likelihood function. In fact by convention we also multiply by two (more on that in lectures later). \n",
    "\n",
    "$$\n",
    "q(\\mu,\\eta) = -2\\ln L(\\mu,\\eta)  = \\eta^{2}+2\\lambda(\\mu,eta)-2n\\ln\\lambda(\\mu,\\eta)\n",
    "$$"
   ]
  },
  {
   "cell_type": "code",
   "execution_count": null,
   "metadata": {},
   "outputs": [],
   "source": [
    "# q = -2lnL\n",
    "def q(mu,eta):\n",
    "  la = lamb(mu,eta)\n",
    "  return eta*eta + 2*la -2*n*numpy.log(la)"
   ]
  },
  {
   "cell_type": "markdown",
   "metadata": {},
   "source": [
    "To profile the function, we need to find value(s) of $\\eta$ for which,\n",
    "\n",
    "$$\n",
    "q{\\prime} = \\frac{\\partial q}{\\partial \\eta} = 0  \n",
    "$$\n",
    "\n",
    "We'll use a numerial method known as the \"Newton method\" to solve this. This method works as follows; \n",
    "\n",
    "   * Choose an initial starting point for the parameter, call it $\\eta_{0}$.\n",
    "   * The next point proposed is $\\eta_{1}=\\eta_{0}-\\frac{q\\prime(\\eta_{0})}{q\\prime\\prime(\\eta_{0})}$. This new point now replaces $\\eta_{0}$/ \n",
    "   * Continue iterating until $|q\\prime|<\\delta$, where $\\delta$  is some pre-defined tolerance\n",
    "   \n",
    "Since we can analytically calculate them, we also write the functions for $q\\prime$  and $q\\prime\\prime$,"
   ]
  },
  {
   "cell_type": "code",
   "execution_count": null,
   "metadata": {},
   "outputs": [],
   "source": [
    "# dq/deta\n",
    "def dq(mu,eta):\n",
    "  dl = lamb(mu,eta)*numpy.log(1+k)\n",
    "  return 2*eta + 2*dl - 2*n*numpy.log(1+k)\n",
    "\n",
    "# d^2q/deta^2\n",
    "def d2q(mu,eta):\n",
    "  log_k = numpy.log(1+k)\n",
    "  la  = lamb(mu,eta)\n",
    "  return 2+2*la*log_k*log_k"
   ]
  },
  {
   "cell_type": "markdown",
   "metadata": {},
   "source": [
    "Finally, lets put this into a function which returns the profiled value of $\\eta$ for a given value of $\\mu$. "
   ]
  },
  {
   "cell_type": "code",
   "execution_count": null,
   "metadata": {},
   "outputs": [],
   "source": [
    "def profiled_eta(mu):\n",
    "  # numerical minimumisation via newton method\n",
    "  tol = 0.01\n",
    "  init_eta =-0.5 if lamb(mu,0)-n > 0 else 0.5\n",
    "  init_eta = -10\n",
    "  eps = 100\n",
    "  while eps > tol:\n",
    "    qp = dq(mu,init_eta)\n",
    "    eps = abs(qp)\n",
    "    init_eta = init_eta - qp/d2q(mu,init_eta)\n",
    "  return init_eta\n"
   ]
  },
  {
   "cell_type": "markdown",
   "metadata": {},
   "source": [
    "Let's see how it looks  now. First, we can plot the  value of $q(\\mu,\\eta)$ in a 2D color map.\n",
    "\n",
    "We then call our `profiled_eta` function to plot the value of eta which minimizes $q(\\mu,\\eta)$ for each value of $\\mu$ in a reasonably wide range. \n",
    "\n",
    "Finally, by plugging these values of $\\eta$ into our function for $q$, we obtain the *profiled negative log-likelihood* as a function of $\\mu$. "
   ]
  },
  {
   "cell_type": "code",
   "execution_count": null,
   "metadata": {},
   "outputs": [],
   "source": [
    "# plotting\n",
    "fig, (ax1,ax2) = plt.subplots(1,2)\n",
    "\n",
    "# 1. plot q(mu,eta)\n",
    "xaxis = numpy.linspace(-0.9,15,50)\n",
    "yaxis = numpy.linspace(-3,3,50)\n",
    "z = [ [q(mu,eta) for mu in xaxis] for eta in yaxis ]\n",
    "X,Y = numpy.meshgrid(xaxis,yaxis)\n",
    "c = ax1.pcolor(X,Y,z)\n",
    "fig.colorbar(c,ax=ax1)\n",
    "ax1.set_xlabel(\"$\\\\mu$\")\n",
    "ax1.set_ylabel(\"$\\eta$\")\n",
    "ax1.set_title(\"$q(\\\\mu,\\eta)$\")\n",
    "\n",
    "# 2. plot the profiled value of eta as a function of mu\n",
    "eta_mu = [ profiled_eta(mu) for mu in xaxis ]\n",
    "ax1.plot(xaxis,eta_mu,color='red')\n",
    "\n",
    "# 2. plot the profile likelihood\n",
    "q_mu = [ q(mu,eta) for mu,eta in zip(xaxis,eta_mu)]\n",
    "ax2.plot(xaxis,q_mu)\n",
    "ax2.set_xlabel(\"$\\\\mu$\")\n",
    "ax2.set_ylabel(\"$q(\\\\mu)$\")\n",
    "\n",
    "plt.show()"
   ]
  },
  {
   "cell_type": "code",
   "execution_count": null,
   "metadata": {},
   "outputs": [],
   "source": []
  }
 ],
 "metadata": {
  "kernelspec": {
   "display_name": "Python 3",
   "language": "python",
   "name": "python3"
  },
  "language_info": {
   "codemirror_mode": {
    "name": "ipython",
    "version": 3
   },
   "file_extension": ".py",
   "mimetype": "text/x-python",
   "name": "python",
   "nbconvert_exporter": "python",
   "pygments_lexer": "ipython3",
   "version": "3.8.5"
  }
 },
 "nbformat": 4,
 "nbformat_minor": 4
}
