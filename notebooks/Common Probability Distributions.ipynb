{
 "cells": [
  {
   "cell_type": "markdown",
   "metadata": {},
   "source": [
    "# Probability distributions\n",
    "\n",
    "In the particle physics there are a few common probability (density) distributions that appear over and over. Let's have a look at some of them. "
   ]
  },
  {
   "cell_type": "code",
   "execution_count": null,
   "metadata": {},
   "outputs": [],
   "source": [
    "%matplotlib notebook\n",
    "\n",
    "import numpy\n",
    "import matplotlib.pyplot as plt\n",
    "plt.rcParams.update({'font.size': 10})"
   ]
  },
  {
   "cell_type": "markdown",
   "metadata": {},
   "source": [
    "The first one is the Poisson distribution. Remember that this distribution is the limiting case of a binomial distribution where the parameter $\\lambda=\\frac{p}{N}$ stays constant as the probability for success $p\\rightarrow 0$ and the number of trials $N\\rightarrow \\infty$.\n",
    "\n",
    "if $k\\sim \\mathrm{Poisson}(\\lambda)$, then\n",
    "\n",
    "$$\n",
    "f(k; \\lambda) = \\frac{\\lambda^{k}}{k!}e^{-\\lambda}\n",
    "$$\n",
    "\n",
    "The `scipy.stats.poisson` module can be used to plot this distribution and its CDF for different values of $\\lambda$. "
   ]
  },
  {
   "cell_type": "code",
   "execution_count": null,
   "metadata": {},
   "outputs": [],
   "source": [
    "from scipy.stats import poisson\n",
    "\n",
    "x = range(0,20) \n",
    "# 5 different values of \\lambda\n",
    "lambdas = numpy.arange(0.1,10,2.0)\n",
    "fig, (ax1,ax2) = plt.subplots(1,2)\n",
    "\n",
    "[ ax1.plot(x,poisson.pmf(x,i),label=\"$P(%g)$\"%i,marker=\"o\") for i in lambdas ]\n",
    "[ ax2.plot(x,poisson.cdf(x,i),label=\"$P(%g)$\"%i,marker=\"o\") for i in lambdas ]\n",
    "\n",
    "ax1.set_xlabel(\"$k$\")\n",
    "ax1.set_ylabel(\"$f(k;\\lambda)$\")\n",
    "ax2.set_xlabel(\"$k$\")\n",
    "ax2.set_ylabel(\"$F(k;\\lambda)$\")\n",
    "\n",
    "ax1.legend()\n",
    "plt.show()"
   ]
  },
  {
   "cell_type": "markdown",
   "metadata": {},
   "source": [
    "The next one for this notebook is the Gaussian (or Normal) probability density. In the lectures, we showed that for large values of the Poisson parameter $\\lambda\\rightarrow +\\infty$, the Poisson distribution converges to a Gaussian distribution with a mean of $\\mu=\\lambda$ and a variance of $\\sigma^{2}=\\lambda$. If a random variable  $X$ is distributed as a Normal distribution $\\phi(\\mu,\\sigma)$, then ;\n",
    "\n",
    "$$\n",
    "f(X;\\mu,\\sigma) = \\frac{1}{\\sigma\\sqrt{2\\pi}}e^{\\frac{1}{2}\\left(\\frac{X-\\mu}{\\sigma}\\right)^{2}}\n",
    "$$\n",
    "\n",
    "In `scipy` we can obtain the pdf and cdf of a Normal distribution using`scipy.stats.norm`."
   ]
  },
  {
   "cell_type": "code",
   "execution_count": null,
   "metadata": {},
   "outputs": [],
   "source": [
    "from scipy.stats import norm\n",
    "\n",
    "x = numpy.arange(-10,10,0.1)\n",
    "mu_range    = [-2,0,5]\n",
    "sigma_range = [0.5,2,1]\n",
    "# plotting\n",
    "fig, (ax1,ax2) = plt.subplots(1,2)\n",
    "\n",
    "[ ax1.plot(x,norm.pdf(x,m,s),label=\"$\\phi(%.1f,%.1f)$\"%(m,s)) for m,s in zip(mu_range,sigma_range)]\n",
    "[ ax2.plot(x,norm.cdf(x,m,s),label=\"$\\phi(%.1f,%.1f)$\"%(m,s)) for m,s in zip(mu_range,sigma_range)]\n",
    "\n",
    "ax1.set_xlabel(\"$X$\")\n",
    "ax1.set_ylabel(\"$f(X;n)$\")\n",
    "ax2.set_xlabel(\"$X$\")\n",
    "ax2.set_ylabel(\"$F(X;n)$\")\n",
    "\n",
    "ax1.legend()\n",
    "plt.show()"
   ]
  },
  {
   "cell_type": "markdown",
   "metadata": {},
   "source": [
    "The $\\chi^{2}$ distribution is an important distribution when applying Wilks' theorem, which is covered in the lectures. For example, if $X$ is distributed as a Normal distribution, then $X^{2}$ will be distributed as a $\\chi^{2}$ with 1 degree of freedom. \n",
    "\n",
    "If $X\\sim \\chi^{2}(1)$, then \n",
    "\n",
    "$$\n",
    "f(X;1) = \\frac{1}{\\sqrt{2\\pi X}}  e^{-\\frac{X}{2}}\n",
    "$$\n",
    "\n",
    "The `scipy.stats.chi2` module can show us this distribution for any number of degrees of freedom. "
   ]
  },
  {
   "cell_type": "code",
   "execution_count": null,
   "metadata": {},
   "outputs": [],
   "source": [
    "from scipy.stats import chi2\n",
    "\n",
    "x = numpy.arange(0.1,20,0.05)\n",
    "ndof = range(1,12,1)\n",
    "\n",
    "# plotting\n",
    "fig, (ax1,ax2) = plt.subplots(1,2)\n",
    "\n",
    "[ ax1.plot(x,chi2.pdf(x,i),label=\"$\\chi^{2}(%d)$\"%i) for i in ndof ]\n",
    "[ ax2.plot(x,chi2.cdf(x,i),label=\"$\\chi^{2}(%d)$\"%i) for i in ndof ]\n",
    "\n",
    "ax1.set_xlabel(\"$X$\")\n",
    "ax1.set_ylabel(\"$f(X;n)$\")\n",
    "ax2.set_xlabel(\"$X$\")\n",
    "ax2.set_ylabel(\"$F(X;n)$\")\n",
    "\n",
    "ax1.legend()\n",
    "plt.show()"
   ]
  }
 ],
 "metadata": {
  "kernelspec": {
   "display_name": "Python 3",
   "language": "python",
   "name": "python3"
  },
  "language_info": {
   "codemirror_mode": {
    "name": "ipython",
    "version": 3
   },
   "file_extension": ".py",
   "mimetype": "text/x-python",
   "name": "python",
   "nbconvert_exporter": "python",
   "pygments_lexer": "ipython3",
   "version": "3.8.5"
  }
 },
 "nbformat": 4,
 "nbformat_minor": 4
}
