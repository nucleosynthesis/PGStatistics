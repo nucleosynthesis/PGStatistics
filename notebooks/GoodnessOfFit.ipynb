{
 "cells": [
  {
   "cell_type": "markdown",
   "id": "3e08da2e-3c7a-4bed-a01c-edabea3eca67",
   "metadata": {},
   "source": [
    "# Goodness of Fit \n",
    "\n",
    "Suppose we measure the energy of outgoing particles that scatter off a target. We know their incoming energy and hence we measure the distribution of the fraction of that energy which is carried away by the scattered particle. Let the energy fraction be $x\\in[0,1]$ and our hypothesis for the distribution is an exponential with slope parameter -2, \n",
    "\n",
    "$$\n",
    "f(x)=Ne^{-2\\cdot x}, ~N=2(1-e^{-2})^{-1} \\approx 2.313\n",
    "$$\n",
    "\n",
    "We bin the observable $x$ into 5 equal width bins in the range $[0,1]$ and count the number of events that fall into each bin. We observe the following counts in the data 9,  6,  4,  5 and 2.\n",
    "\n",
    "Given $H_0$, the expected counts can be determined as $\\lambda_{i}  =  26\\times\\int_{x_{a_{i}}}^{x_{b_{i}}}f(x)dx$, where $[x_{a_{i}},x_{b_{i}}]$ defines the boundaries of bin $i$ and we've observed 26 events in total."
   ]
  },
  {
   "cell_type": "code",
   "execution_count": 1,
   "id": "7bfd0579-7164-4d70-b661-f20d849291bf",
   "metadata": {},
   "outputs": [],
   "source": [
    "%matplotlib inline\n",
    "\n",
    "import numpy\n",
    "from scipy.stats import poisson\n",
    "import matplotlib.pyplot as plt\n",
    "plt.rcParams.update({'font.size': 14})\n",
    "\n",
    "# observed counts in each bin - norm is what we'll use to obtain lambdas\n",
    "bin_boundaries = [0 , 0.2, 0.4, 0.6, 0.8, 1]\n",
    "observations   =  [ 9,  6,  4,  5,  2 ]\n",
    "norm = sum(observations)\n",
    "\n",
    "# calculate the Poisson parameter for a given bin\n",
    "# the bin is defined by the range x0->x1\n",
    "a=2.0\n",
    "def mean_exp(x0,x1):\n",
    "  N = a*(1-numpy.exp(-a))**-1\n",
    "  return (N/a)*(numpy.exp(-a*x0)-numpy.exp(-a*x1))"
   ]
  },
  {
   "cell_type": "markdown",
   "id": "7c705c69-9f2b-4f54-90dd-722624c95580",
   "metadata": {},
   "source": [
    "We can make a plot with histograms to show what our data and model look like. "
   ]
  },
  {
   "cell_type": "code",
   "execution_count": 9,
   "id": "45d9810a-bfc1-49e0-985b-9dda90c530a1",
   "metadata": {},
   "outputs": [
    {
     "data": {
      "image/png": "[encoded data removed]",
      "text/plain": [
       "<Figure size 432x288 with 1 Axes>"
      ]
     },
     "metadata": {
      "needs_background": "light"
     },
     "output_type": "display_data"
    }
   ],
   "source": [
    "lambdas = [norm*mean_exp(x,x+0.2)  for x in bin_boundaries[0:-1]]\n",
    "\n",
    "plt.plot([b+0.1 for b in bin_boundaries[0:-1]],observations,\\\n",
    "    marker=\"o\",color=\"black\", linestyle='none')\n",
    "plt.plot([b+0.1 for b in bin_boundaries[0:-1]],\\\n",
    "    lambdas, marker=\"_\",color=\"red\",linestyle='none')\n",
    "plt.xlabel(\"x\")\n",
    "plt.ylabel(\"Observed / Expected events per bin\")\n",
    "plt.show()"
   ]
  },
  {
   "cell_type": "markdown",
   "id": "fb867740-1bb5-403b-86ff-3f30630faf08",
   "metadata": {},
   "source": [
    "Now we define the test-statistic as,\n",
    "\n",
    "$$\n",
    "    t= -2\\ln\\Lambda = -2\\ln\\frac{L(H_0)}{L(H_1)} = -2\\sum_{i} \\left(o_{i}\\ln(\\lambda_{i}) -\\lambda_{i}-o_{i}\\ln(o_{i}) +o_{i} \\right)\n",
    "$$"
   ]
  },
  {
   "cell_type": "code",
   "execution_count": 3,
   "id": "47cea1cc-d042-440b-b54f-ed4f05e1d755",
   "metadata": {},
   "outputs": [],
   "source": [
    "# define a log function to handle 0 - will be ==0 by the product\n",
    "def mlog(o):\n",
    "  if o==0: return 0\n",
    "  else: return numpy.log(o)\n",
    "\n",
    "# define the goodness of fit test likelihood ratio\n",
    "def testStatistic(observations,lambdas):\n",
    "  return -2*sum([o*mlog(l) - l - o*mlog(o) + o \\\n",
    "    for o,l in zip(observations,lambdas)])"
   ]
  },
  {
   "cell_type": "markdown",
   "id": "f4dc0dad-0ceb-4b28-882a-809428a16705",
   "metadata": {},
   "source": [
    "Plugging in our observation, we can calculate the observed value of our test statistic. "
   ]
  },
  {
   "cell_type": "code",
   "execution_count": 4,
   "id": "4dcb8621-a475-449a-9af9-e837b9fa19ca",
   "metadata": {},
   "outputs": [
    {
     "name": "stdout",
     "output_type": "stream",
     "text": [
      "Observed test statistic 1.3268714146550415\n"
     ]
    }
   ],
   "source": [
    "test_stat_obs = testStatistic(observations,lambdas)\n",
    "print(\"Observed test statistic\",test_stat_obs)"
   ]
  },
  {
   "cell_type": "markdown",
   "id": "159bca59-627e-44b1-bd14-6f8a7f4a42d1",
   "metadata": {},
   "source": [
    "We can generate the distribution of $-2\\ln\\Lambda$ using MC toy data sets to calculate the $p$-value. Remember the $p$-value is just the fraction of toys for which the $t>t_{obs}$."
   ]
  },
  {
   "cell_type": "code",
   "execution_count": 6,
   "id": "e762af39-614e-4b45-b672-c76a416456a6",
   "metadata": {},
   "outputs": [
    {
     "name": "stdout",
     "output_type": "stream",
     "text": [
      "p-value =  0.93784\n"
     ]
    },
    {
     "data": {
      "image/png": "[encoded data removed]",
      "text/plain": [
       "<Figure size 432x288 with 1 Axes>"
      ]
     },
     "metadata": {
      "needs_background": "light"
     },
     "output_type": "display_data"
    }
   ],
   "source": [
    "# generate the distributuon of the test stat under our hypothesis\n",
    "test_stat_toys = []; pval = 0\n",
    "\n",
    "for i in range(50000):\n",
    "  toy_observations = [numpy.random.poisson(l) for l in lambdas]\n",
    "  test_stat_t = testStatistic(toy_observations,lambdas)\n",
    "  test_stat_toys.append(test_stat_t)\n",
    "  if test_stat_t > test_stat_obs : pval += 1\n",
    "    \n",
    "pval/=len(test_stat_toys)\n",
    "\n",
    "print(\"p-value = \", pval)\n",
    "\n",
    "# And plot the distribution of t in the toys\n",
    "plt.hist([t for t in test_stat_toys if t > 1.3], \\\n",
    "    bins=numpy.arange(0,16,0.1),range=(0,16),color='cyan')\n",
    "\n",
    "plt.hist(test_stat_toys, bins=numpy.arange(0,16,0.1), \\\n",
    "    range=(0,16),color='black',histtype='step')\n",
    "\n",
    "plt.plot([test_stat_obs,test_stat_obs],[0,500],color='red')\n",
    "\n",
    "plt.xlabel(\"$x$\"); plt.ylabel(\"Observed/Expected events per bin\")\n",
    "plt.xlabel(\"t=$-2\\ln\\Lambda$\"); plt.ylabel(\"# entries\")\n",
    "plt.show()"
   ]
  },
  {
   "cell_type": "code",
   "execution_count": null,
   "id": "7c16efa6-5de8-4158-9889-22b477507ca4",
   "metadata": {},
   "outputs": [],
   "source": []
  }
 ],
 "metadata": {
  "kernelspec": {
   "display_name": "Python 3 (ipykernel)",
   "language": "python",
   "name": "python3"
  },
  "language_info": {
   "codemirror_mode": {
    "name": "ipython",
    "version": 3
   },
   "file_extension": ".py",
   "mimetype": "text/x-python",
   "name": "python",
   "nbconvert_exporter": "python",
   "pygments_lexer": "ipython3",
   "version": "3.8.5"
  }
 },
 "nbformat": 4,
 "nbformat_minor": 5
}
