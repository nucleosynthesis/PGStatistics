{
 "cells": [
  {
   "cell_type": "markdown",
   "metadata": {},
   "source": [
    "# Gaussian Sums\n",
    "\n",
    "In the lectures, we saw that the distribution of the sum of two Gaussian distributions, is another distribution. \n",
    "\n",
    "if $X\\sim\\phi(X;\\mu_{X},\\sigma=_{X})$ and $Y\\sim\\phi(Y;\\mu_Y,\\sigma_Y)$, \n",
    "\n",
    "then, \n",
    "\n",
    "$$(X+Y)=U \\sim \\phi(U;\\mu_{U}=mu_{X}+\\mu_{Y}, \\sigma_Z=\\sqrt{\\sigma_{X}^{2}+\\sigma_{Y}^{2}})$$\n",
    "\n",
    "We can check this for an example. Let $\\mu_{X}=10$, $\\mu_{Y}=-6$, $\\sigma_{X}=1$, $\\sigma_{Y}=0.5$.\n",
    "\n",
    "We can generate toys from the two Gaussians, sum them and plot a histogram of the distribution."
   ]
  },
  {
   "cell_type": "code",
   "execution_count": null,
   "metadata": {},
   "outputs": [],
   "source": [
    "import numpy\n",
    "import matplotlib.pyplot as plt\n",
    "\n",
    "def gaus(x,mu,sigma):\n",
    "    A = (1./(sigma*(2*numpy.math.pi)**0.5))\n",
    "    B = numpy.math.exp(-(x-mu)*(x-mu)/(2*sigma*sigma)) \n",
    "    return A*B\n",
    "\n",
    "muX, sigmaX = 10., 1. \n",
    "muY, sigmaY = -6., 0.5\n",
    "\n",
    "# generate toy values from the two Gaussian distributions and sum\n",
    "toys_X = numpy.random.normal(muX,sigmaX,1000)\n",
    "toys_Y = numpy.random.normal(muY,sigmaY,1000) \n",
    "toys_U = toys_X+toys_Y\n",
    "\n",
    "# plot the toys and compare to the expected Gaussian distributions\n",
    "x = numpy.arange(-10,20,0.1)\n",
    "plt.hist(toys_X,100,(-10,20),density=True,color='green') \n",
    "plt.hist(toys_Y,100,(-10,20),density=True,color='red') \n",
    "plt.hist(toys_U,100,(-10,20),density=True,color='cyan')\n",
    "plt.show()"
   ]
  },
  {
   "cell_type": "markdown",
   "metadata": {},
   "source": [
    "According to our calculation for the sum of two Gaussian variables,  we should have that\n"
   ]
  },
  {
   "cell_type": "code",
   "execution_count": null,
   "metadata": {},
   "outputs": [],
   "source": [
    "mu = muX + muY\n",
    "sigma = ((sigmaX)**2 + (sigmaY)**2)**0.5 "
   ]
  },
  {
   "cell_type": "markdown",
   "metadata": {},
   "source": [
    "Let's check!"
   ]
  },
  {
   "cell_type": "code",
   "execution_count": null,
   "metadata": {},
   "outputs": [],
   "source": [
    "plt.hist(toys_U,100,(-10,20),density=True,color='cyan')\n",
    "plt.plot(x,[gaus(xx,mu,sigma) for xx in x],color='black')\n",
    "print(\"mu=%.1f, sigma=%.1f\"%(mu,sigma)) \n",
    "plt.xlabel(\"$U$\")\n",
    "plt.ylabel(\"$\\\\phi(U)$\") \n",
    "plt.show()"
   ]
  }
 ],
 "metadata": {
  "kernelspec": {
   "display_name": "Python 3 (ipykernel)",
   "language": "python",
   "name": "python3"
  },
  "language_info": {
   "codemirror_mode": {
    "name": "ipython",
    "version": 3
   },
   "file_extension": ".py",
   "mimetype": "text/x-python",
   "name": "python",
   "nbconvert_exporter": "python",
   "pygments_lexer": "ipython3",
   "version": "3.8.5"
  }
 },
 "nbformat": 4,
 "nbformat_minor": 4
}
