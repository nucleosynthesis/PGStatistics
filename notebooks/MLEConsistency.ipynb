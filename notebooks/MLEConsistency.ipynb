{
 "cells": [
  {
   "cell_type": "markdown",
   "metadata": {},
   "source": [
    "# MLE Consistency\n",
    "\n",
    "In the lectures, we saw that one of the nice properties of maximum likelihood estimates is that they are consistent. This means that essentially with more data points included in the likelihood, the estimates of parameters will converge to the true parameter values. \n",
    "\n",
    "As an example, suppose we want to estimate the two parameters $(\\mu,\\sigma)$ of a normal distribution, $\\phi(X;\\mu,\\sigma)$ given a set of observations $X_{1},X_{2},...,X_{N}$. The likelihood function is,\n",
    "\n",
    "$$\n",
    "q(\\mu,\\theta) = -2\\sum_{i=1}^{N}\\ln\\left( \\frac{1}{\\sigma\\sqrt{2\\pi}}e^{-\\frac{1}{2}\\left(\\frac{X_{i}-\\mu}{\\sigma}\\right)^{2}}\\right) \\\\= N\\ln(\\sigma\\sqrt{2\\pi})+\\sum_{i=1}^{N}\\left(\\frac{X_{i}-\\mu}{\\sigma}\\right)^{2}\n",
    "$$"
   ]
  },
  {
   "cell_type": "code",
   "execution_count": null,
   "metadata": {},
   "outputs": [],
   "source": [
    "%matplotlib notebook\n",
    "\n",
    "import numpy\n",
    "import matplotlib.pyplot as plt\n",
    "plt.rcParams.update({'font.size': 14})\n",
    "\n",
    "def q(params_list = []):\n",
    "   mu    = params_list[0]\n",
    "   sigma = params_list[1]\n",
    "   N = len(data)\n",
    "   sum_part = sum( [ ((x-mu)/sigma)**2 for x in data ] )\n",
    "   return 2*N*numpy.log(sigma*((2*numpy.pi)**0.5)) + sum_part"
   ]
  },
  {
   "cell_type": "markdown",
   "metadata": {},
   "source": [
    "Suppose the true values are $\\mu_0$ and $\\sigma_0$. "
   ]
  },
  {
   "cell_type": "code",
   "execution_count": null,
   "metadata": {},
   "outputs": [],
   "source": [
    "# true values\n",
    "mu_0     = 4.0\n",
    "sigma_0  = 2.0"
   ]
  },
  {
   "cell_type": "markdown",
   "metadata": {},
   "source": [
    "We can generate $N$ values of $X$ and find the maximum likelihood estimates $\\hat{\\mu}$ and $\\hat{\\sigma}$ for increasing values of $N$. \n",
    "\n",
    "We’ll use the minimize function from the `scipy.optimize` package."
   ]
  },
  {
   "cell_type": "code",
   "execution_count": null,
   "metadata": {},
   "outputs": [],
   "source": [
    "from scipy.optimize import minimize\n",
    "\n",
    "# empty list of data for now\n",
    "data = [] \n",
    "\n",
    "# inital values for mu, sigma\n",
    "init_params = [mu_0,sigma_0]\n",
    "bounds  = [(-10,10),(0.01,10)]\n",
    "# generate random data\n",
    "steps = [5,10,20, 50, 100, 200, 500, 1000, 5000, 10000, 20000]\n",
    "hat_mu = []; hat_sigma = []\n",
    "for N in steps: \n",
    "  data = numpy.random.normal(mu_0,sigma_0,size=N)\n",
    "  mle = minimize(q,init_params,bounds=bounds)\n",
    "  hat_mu.append(mle.x[0])\n",
    "  hat_sigma.append(mle.x[1])"
   ]
  },
  {
   "cell_type": "markdown",
   "metadata": {},
   "source": [
    "And plot the results ..."
   ]
  },
  {
   "cell_type": "code",
   "execution_count": null,
   "metadata": {},
   "outputs": [],
   "source": [
    "plt.plot(steps,hat_mu,color='blue',marker=\"o\",label=\"$\\hat{\\mu}$\")\n",
    "plt.plot(steps,hat_sigma,color='red',marker=\"o\",label=\"$\\hat{\\sigma}$\")\n",
    "\n",
    "plt.plot(steps,[mu_0 for s in steps],color='blue',linestyle=\"--\")\n",
    "plt.plot(steps,[sigma_0 for s in steps],color='red',linestyle=\"--\")\n",
    "\n",
    "plt.xlabel(\"N\")\n",
    "plt.ylabel(\"$\\hat{\\mu}$ or $\\hat{\\sigma}$\")\n",
    "\n",
    "plt.xscale('log')\n",
    "plt.legend()\n",
    "plt.show()"
   ]
  },
  {
   "cell_type": "markdown",
   "metadata": {},
   "source": [
    "As expected, as $N$ gets llarger, the maximum likelihood estimators for $\\mu$ and $\\sigma$ get closer to the true values $\\mu_0$ and $\\sigma_0$. \n",
    "\n",
    "Try with other true values and check if the same holds. "
   ]
  },
  {
   "cell_type": "code",
   "execution_count": null,
   "metadata": {},
   "outputs": [],
   "source": []
  }
 ],
 "metadata": {
  "kernelspec": {
   "display_name": "Python 3 (ipykernel)",
   "language": "python",
   "name": "python3"
  },
  "language_info": {
   "codemirror_mode": {
    "name": "ipython",
    "version": 3
   },
   "file_extension": ".py",
   "mimetype": "text/x-python",
   "name": "python",
   "nbconvert_exporter": "python",
   "pygments_lexer": "ipython3",
   "version": "3.8.5"
  }
 },
 "nbformat": 4,
 "nbformat_minor": 4
}
