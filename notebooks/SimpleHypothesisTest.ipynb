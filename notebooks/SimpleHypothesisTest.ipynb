{
 "cells": [
  {
   "cell_type": "markdown",
   "id": "a0181238-e1e1-4256-839c-44db0a9c0adb",
   "metadata": {
    "tags": []
   },
   "source": [
    "# Simple Hypothesis Tests\n",
    "\n",
    "Let's suppose we have a simple experimental setup that counts the number of charged particles, say electrons from a beam passing through a spark chamber. Say we can tune the beam to fire a fixed number of electrons at the chamber, and record the number of sparks $k$. When we ordered the detector, the manufacturer said it was 90\\% efficient. So we set out to test our null hypothesis corresponding to $\\epsilon=70\\%$ hypothesis. Our test statistic will be $k$, and our critical region will correspond to values of $k\\leq K$, where $K$ is the number satisfying, \n",
    "\n",
    "$$\n",
    "    \\sum_{k=0}^{k=K} b(k;\\epsilon,N),\n",
    "$$\n",
    "\n",
    "where $b(k;p,N)$ the our binomial probability distribution with success probability $\\epsilon$ and $N$ trials. \n",
    "\n",
    "Suppose we run our experiment with 5000 electrons and observe 3420 sparks. Given this observation, we can rewrite our definition of the *size* of our test,\n",
    "\n",
    "$$\n",
    "     P(X\\in w|H_{0})=\\alpha \\rightarrow P(k>K |H_{0}) = \\alpha\n",
    "$$\n",
    "\n",
    "where now we're calculating the value of $\\alpha$ where $K$ is our observation. \n",
    "\n",
    "Instead of choosing $K$ such that $\\alpha=0.05$, we let $K=83$ and compare the resulting value of $\\alpha$ with 0.05. This is what is known as calculating a $p$-value (or tail probability) for a particular observation. We can calculate this numerically using a MC method - remember that convergence in probability requires a lot of MC. \n"
   ]
  },
  {
   "cell_type": "code",
   "execution_count": 1,
   "id": "3edbf749-7e5a-4dc4-a963-b6e5c9956733",
   "metadata": {},
   "outputs": [
    {
     "name": "stdout",
     "output_type": "stream",
     "text": [
      "0.0074\n"
     ]
    }
   ],
   "source": [
    "import numpy as np\n",
    "# parameters of the binomial probability distribution\n",
    "N, eps=5000,0.70\n",
    "# our observed number of sparks\n",
    "K=3420\n",
    "\n",
    "# generate MC pseudo observations\n",
    "nMC=10000\n",
    "random_k = np.random.binomial(N,eps,nMC)\n",
    "\n",
    "# count the fraction of times we see a value of k\n",
    "# less than or equal to K\n",
    "pval = float(len([x for x in random_k if x<=K]))/nMC\n",
    "print(pval)"
   ]
  },
  {
   "cell_type": "markdown",
   "id": "a927de00-1da3-4dce-b843-0daf76965c64",
   "metadata": {},
   "source": [
    "In this case the $p$-value is smaller than 0.05 so based on this test we reject $H_0$. Using this procedure, how often would we see a $p$-value smaller than 0.05? \n",
    "\n",
    "We can use Monte Carlo simulations to calculate it, but this time, we will use `binom` from the `scipy.stats` package to do it since its much faster."
   ]
  },
  {
   "cell_type": "code",
   "execution_count": 3,
   "id": "4389bd15-8b1b-4c5e-b16d-4559875a84d8",
   "metadata": {},
   "outputs": [
    {
     "data": {
      "image/png": "[encoded data removed]",
      "text/plain": [
       "<Figure size 432x288 with 1 Axes>"
      ]
     },
     "metadata": {
      "needs_background": "light"
     },
     "output_type": "display_data"
    }
   ],
   "source": [
    "import matplotlib.pyplot as plt\n",
    "\n",
    "# scipy has a lot of common pdfs for us to use\n",
    "from scipy.stats import binom\n",
    "\n",
    "# parameters of the binomial probability distribution\n",
    "N, eps=5000,0.70\n",
    "\n",
    "def calc_pval(K):\n",
    "  # for a random observation K, we calculate the p-val\n",
    "  pval = binom.cdf(K,N,eps)\n",
    "  return pval\n",
    "\n",
    "# calculate the p-valye for 10,000 MC samples (random values of K)\n",
    "nTests=10000\n",
    "tests = [np.random.binomial(N,eps) for i in range(nTests)]\n",
    "pvals = [calc_pval(k) for k in tests]\n",
    "\n",
    "y,binEdges = np.histogram(pvals,bins=10)\n",
    "bincenters = 0.5*(binEdges[1:]+binEdges[:-1])\n",
    "menStd     = np.sqrt(y)\n",
    "plt.bar(bincenters, y, width=0.025, yerr=menStd)\n",
    "plt.xlabel(\"$p$-value\")\n",
    "plt.ylabel(\"Number of trials per bin\")\n",
    "plt.show()"
   ]
  },
  {
   "cell_type": "markdown",
   "id": "baf30883-d5a1-4f66-9c28-1aea210c5aa0",
   "metadata": {},
   "source": [
    "You can see it's roughly flat. Actually this is not surprising since the distribution of the $p$-value under the null hypothesis is always flat!\n",
    "\n",
    "Immediately we can see then that by choosing to reject $H_0$ when the $p$-value is  exactly the probability that we would falsely reject $H_0$; the $p$-value is our type-I error."
   ]
  },
  {
   "cell_type": "code",
   "execution_count": null,
   "id": "18610630-ec32-49e3-8287-40ab4f26b97f",
   "metadata": {},
   "outputs": [],
   "source": []
  }
 ],
 "metadata": {
  "kernelspec": {
   "display_name": "Python 3 (ipykernel)",
   "language": "python",
   "name": "python3"
  },
  "language_info": {
   "codemirror_mode": {
    "name": "ipython",
    "version": 3
   },
   "file_extension": ".py",
   "mimetype": "text/x-python",
   "name": "python",
   "nbconvert_exporter": "python",
   "pygments_lexer": "ipython3",
   "version": "3.8.5"
  }
 },
 "nbformat": 4,
 "nbformat_minor": 5
}
