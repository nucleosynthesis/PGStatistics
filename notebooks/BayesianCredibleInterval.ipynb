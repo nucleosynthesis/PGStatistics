{
 "cells": [
  {
   "cell_type": "markdown",
   "id": "13fad0a1-770a-4d6d-973e-4f66b4599270",
   "metadata": {},
   "source": [
    "# Bayesian Credible interval\n",
    "\n",
    "Once the posterior distribution $P(\\mu)$ is obtained (by marginalising over the nuisance parameters $\\eta$, a Bayesian can quote a $(100\\times\\alpha)$\\% \\emph{credible interval} (or credible region in more than one dimension), as a region $\\mu\\in\\Omega_{\\alpha}$ for which,\n",
    "\n",
    "$$\n",
    "    P(\\mu\\in\\Omega_{\\alpha})=\\int_{\\Omega_{\\alpha}} P(\\mu)d\\mu = \\alpha.\n",
    "$$\n",
    "\n",
    "Most of our functions we need are already saved in `counting_model_functions.py` so we'll import those, and calculate the posterior distribution again. "
   ]
  },
  {
   "cell_type": "code",
   "execution_count": 2,
   "id": "d0762f24-9842-4357-a96b-27f94349e6c7",
   "metadata": {},
   "outputs": [],
   "source": [
    "%matplotlib inline\n",
    "\n",
    "import numpy\n",
    "import matplotlib.pyplot as plt\n",
    "plt.rcParams.update({'font.size': 12})\n",
    "\n",
    "from counting_model import *\n",
    "from counting_model_functions import *\n",
    "\n",
    "xaxis = numpy.linspace(0.,22,200)\n",
    "\n",
    "normalise = norm(n)\n",
    "# plot the posterior\n",
    "p_mu = [ integral(mu,n)/normalise for mu in xaxis ]"
   ]
  },
  {
   "cell_type": "markdown",
   "id": "830746e0-bc4f-420f-9db3-0a3be1ba8ee2",
   "metadata": {},
   "source": [
    "There can be multiple such regions, any of which satisfy this equation. Below is an example which finds the *shortest* such interval. "
   ]
  },
  {
   "cell_type": "code",
   "execution_count": 7,
   "id": "f1c8f04c-bf5d-4d0f-96f8-39b597975a3f",
   "metadata": {},
   "outputs": [
    {
     "name": "stdout",
     "output_type": "stream",
     "text": [
      "68.3% interval (0.44,7.08)\n"
     ]
    },
    {
     "data": {
      "image/png": "[encoded data removed]",
      "text/plain": [
       "<Figure size 432x288 with 1 Axes>"
      ]
     },
     "metadata": {
      "needs_background": "light"
     },
     "output_type": "display_data"
    }
   ],
   "source": [
    "# use an approximate for the integral with rectangles\n",
    "intervals=[]\n",
    "for i in range(len(xaxis)):\n",
    " x = xaxis[i]\n",
    " if x > 5: break\n",
    " inte=0\n",
    " for j in range(i,len(xaxis)-1):\n",
    "   y = xaxis[j+1]\n",
    "   yl = xaxis[j]\n",
    "   inte += p_mu[j]*(y-yl)\n",
    "   if inte >= 0.683:\n",
    "    intervals.append([y-x,[x,y],[i,j]])\n",
    "    break\n",
    "\n",
    "# find the shortest one\n",
    "intervals.sort(); interval = intervals[0]\n",
    "print(\"68.3%% interval (%.2f,%.2f)\"%(interval[1][0],interval[1][1]))\n",
    "\n",
    "# plot as a shaded region\n",
    "i=interval[2][0]; j=interval[2][1]\n",
    "plt.plot(xaxis,p_mu,color='blue')\n",
    "plt.fill_between(xaxis[i:j],p_mu[i:j])\n",
    "plt.xlabel(\"$\\\\mu$\")\n",
    "plt.ylabel(\"$P(\\mu)$\")\n",
    "plt.savefig(\"credible_interval.pdf\")\n",
    "plt.show()"
   ]
  },
  {
   "cell_type": "code",
   "execution_count": null,
   "id": "8a6b05ab-b829-4416-8e0c-7e2a3fa7bc82",
   "metadata": {},
   "outputs": [],
   "source": []
  }
 ],
 "metadata": {
  "kernelspec": {
   "display_name": "Python 3 (ipykernel)",
   "language": "python",
   "name": "python3"
  },
  "language_info": {
   "codemirror_mode": {
    "name": "ipython",
    "version": 3
   },
   "file_extension": ".py",
   "mimetype": "text/x-python",
   "name": "python",
   "nbconvert_exporter": "python",
   "pygments_lexer": "ipython3",
   "version": "3.8.5"
  }
 },
 "nbformat": 4,
 "nbformat_minor": 5
}
