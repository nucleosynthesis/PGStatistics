{
 "cells": [
  {
   "cell_type": "markdown",
   "id": "ca51a72a",
   "metadata": {},
   "source": [
    "# A Markov chain monte carlo example\n",
    "\n",
    "In the lecures we saw how to calculate a posterior distribution using Bayes' theorem. Remember, that for a continuous parameter $\\theta$, \n",
    "\n",
    "$$\n",
    "p(\\theta|X) = \\frac{p(X|\\theta)p(\\theta)}{p(X)}\n",
    "$$\n",
    "\n",
    "where $X$ represents our data, $p(\\theta)$ is the *prior* probabillity of $\\theta$, and $p(X)=\\int p(\\theta|X)d\\theta$. \n",
    "\n",
    "To make statistical statements about the parameter $\\theta$, we need to know the posterior probabity distribution $p(\\theta|X)$. It is often the case (when the dataset is large or the probability model complex) that rather than calculate the posterior directly, we use monte carlo simulations to extract properties of the posterior distribution. "
   ]
  },
  {
   "cell_type": "code",
   "execution_count": 1,
   "id": "4eed1652",
   "metadata": {},
   "outputs": [],
   "source": [
    "#%matplotlib notebook\n",
    "\n",
    "import numpy\n",
    "import matplotlib.pyplot as plt\n",
    "plt.rcParams.update({'font.size': 10})"
   ]
  },
  {
   "cell_type": "markdown",
   "id": "cd5a4ca1",
   "metadata": {},
   "source": [
    "Let's take a simple example where $X\\sim \\phi(\\theta,1)$ - is normally distributed and $p(\\theta)=phi(0.5,2)$. Suppose our data is represented by a single measurement of $X=1.2$.\n",
    "\n",
    "Our prior is now \n",
    "\n",
    "$$\n",
    "p(\\theta)\\propto e^{-\\frac{1}{2}\\frac{(\\theta-0.5)^{2}}{2^{2}}}\n",
    "$$\n",
    "\n",
    "and the *likelihood*  is, \n",
    "\n",
    "$$\n",
    "p(X|\\theta)\\propto e^{-\\frac{1}{2}\\frac{(1.2-\\theta)^{2}}{1^{2}}}\n",
    "$$\n",
    "\n",
    "where we've ignored  the normalisation terms. \n",
    "\n",
    "We can quickly calculate the posterior probability using the `scipy.stats.norm.pdf` method (which yields the probability density of a normal distribution) and since we need to integrate, we'll use the numerical integration `scipy.integrate`."
   ]
  },
  {
   "cell_type": "code",
   "execution_count": 2,
   "id": "ced29640",
   "metadata": {},
   "outputs": [
    {
     "data": {
      "image/png": "[encoded data removed]",
      "text/plain": [
       "<Figure size 432x288 with 1 Axes>"
      ]
     },
     "metadata": {
      "needs_background": "light"
     },
     "output_type": "display_data"
    }
   ],
   "source": [
    "from scipy import stats\n",
    "import scipy.integrate as integrate\n",
    "\n",
    "xmeas = 1.2\n",
    "\n",
    "def prior(th): \n",
    "    return stats.norm.pdf(th,0.5,2)\n",
    "\n",
    "def likelihood(th):\n",
    "    return stats.norm.pdf(xmeas,th,1)\n",
    "\n",
    "def posterior(th):\n",
    "    return likelihood(th)*prior(th)\n",
    "\n",
    "pX = integrate.quad(posterior,-8,8)[0]\n",
    "\n",
    "thvals = numpy.linspace(-5,5,100)\n",
    "post   = [posterior(th)/pX for th in thvals]\n",
    "plt.plot(thvals,post,color='red')\n",
    "plt.xlabel(\"$\\\\theta$\")\n",
    "plt.ylabel(\"$p(\\\\theta|X)$\")\n",
    "\n",
    "plt.show()"
   ]
  },
  {
   "cell_type": "markdown",
   "id": "bc77f7f0",
   "metadata": {},
   "source": [
    "## A basic MC approach\n",
    "\n",
    "We can see that (as expected) the posterior is centered around our measured value of $X=1.2$. \n",
    "\n",
    "We could obtain the same distribution using monte carlo simulation as follows: \n",
    "\n",
    "   * First we randomly pick values of $\\theta\\rightarrow \\theta'$, according to our prior $p(\\theta)$. \n",
    "   * Decide whether to keep the value generated according to the likelihood. \n",
    "       * Generate a uniform random value $r\\sim U(0,1)$\n",
    "       * Keep the generated value of $\\theta$ if $r<p(X|\\theta\\prime)$ "
   ]
  },
  {
   "cell_type": "code",
   "execution_count": 3,
   "id": "8b50fc12",
   "metadata": {},
   "outputs": [
    {
     "data": {
      "image/png": "[encoded data removed]",
      "text/plain": [
       "<Figure size 432x288 with 1 Axes>"
      ]
     },
     "metadata": {
      "needs_background": "light"
     },
     "output_type": "display_data"
    }
   ],
   "source": [
    "mcprior = numpy.random.normal(0.5,2,10000)\n",
    "\n",
    "# I'm using a for loop in python! It's ok because it makes the steps easy to read\n",
    "accepted_mc = []\n",
    "for mcp in mcprior :\n",
    "    rnd = numpy.random.uniform(0,1)\n",
    "    plike = likelihood(mcp)\n",
    "    if rnd < plike: accepted_mc.append(mcp)\n",
    "\n",
    "plt.hist(accepted_mc,density=True,fill=False,edgecolor='blue')\n",
    "plt.plot(thvals,post,color='red')\n",
    "plt.xlabel(\"$\\\\theta$\")\n",
    "plt.ylabel(\"$p(\\\\theta|X)$\")\n",
    "plt.show()"
   ]
  },
  {
   "cell_type": "markdown",
   "id": "852bf17a",
   "metadata": {},
   "source": [
    "The resulting distribution of values which are kept approximates the posterior distribution, as can be seen by the fact that the red line (the posterior distribution we calcuated before) matches the histogram. \n",
    "\n",
    "From the passing samples, we can calculate things like the mean of the posterior, or quantile ranges, that can be used for making statements about $\\theta$. \n",
    "\n",
    "Note however, that although we generated 10,000 samples,  the number of entries  in the histogram is much less due to the acceptance step. In fact, the efficiency of the acceptance is quite low."
   ]
  },
  {
   "cell_type": "code",
   "execution_count": 4,
   "id": "234a26e4",
   "metadata": {},
   "outputs": [
    {
     "name": "stdout",
     "output_type": "stream",
     "text": [
      "fraction of accepted samples 0.1721\n"
     ]
    }
   ],
   "source": [
    "print(\"fraction of accepted samples\",  float(len(accepted_mc))/len(mcprior))"
   ]
  },
  {
   "cell_type": "markdown",
   "id": "a4b8d5b2",
   "metadata": {},
   "source": [
    "This would be very inefficient for large dimensional data spaces or more complicated likelihoods. Thankfully we can improve things using a  markov chain approach..\n",
    "\n",
    "## A Markov chain approach and Metropolis-Hastings\n",
    "\n",
    "\n",
    "a MCMC is any MC proccess where each step is dependent on the current position. \n",
    "\n",
    "In our simple MC, each step was completely independent of one another (the random values of $\\theta$ were independent). \n",
    "\n",
    "proposal based on posterior but no need to normalise since it cancels in the ratio. "
   ]
  },
  {
   "cell_type": "code",
   "execution_count": 5,
   "id": "c25f54b1",
   "metadata": {},
   "outputs": [
    {
     "data": {
      "text/plain": [
       "[<matplotlib.lines.Line2D at 0x7fbeb3fb48e0>]"
      ]
     },
     "execution_count": 5,
     "metadata": {},
     "output_type": "execute_result"
    },
    {
     "data": {
      "image/png": "[encoded data removed]",
      "text/plain": [
       "<Figure size 432x288 with 1 Axes>"
      ]
     },
     "metadata": {
      "needs_background": "light"
     },
     "output_type": "display_data"
    }
   ],
   "source": [
    "# define our proposal generator\n",
    "# a common choice is a Gaussian centered at the current value of theta\n",
    "def proposal(th):\n",
    "    return numpy.random.normal(th,1)\n",
    "\n",
    "# function to accept new proposal or reject it \n",
    "def accept_or_reject(th_new,th):  \n",
    "    r = posterior(th_new)/posterior(th)\n",
    "    if r > 1: \n",
    "        return th_new,True \n",
    "    else:\n",
    "        alpha = min([r,1])\n",
    "        rnd = numpy.random.uniform(0,1)\n",
    "        if rnd < alpha : \n",
    "            return th_new,True\n",
    "        else: return th,False\n",
    "\n",
    "init_th = proposal(3)\n",
    "accepted_mc_MH = []\n",
    "\n",
    "number_steps = 10000\n",
    "for i in range(number_steps) :\n",
    "    \n",
    "    th_new = proposal(init_th)\n",
    "    th_new,accept = accept_or_reject(th_new,init_th)\n",
    "    init_th = th_new\n",
    "    if accept: accepted_mc_MH.append(th_new)\n",
    "        \n",
    "# plot the accepted points vs the step\n",
    "plt.plot(range(len(accepted_mc_MH)),accepted_mc_MH)"
   ]
  },
  {
   "cell_type": "markdown",
   "id": "f09dc860",
   "metadata": {},
   "source": [
    "Its usually a good idea to remove some first chunk of the markov chain since the initial part will depend on the initial value and the proposal function, meaning the distribution of the samples changes as the process continues. This is known as the *burn-in* period. We can just throw away the first 1000 points to remove this part. "
   ]
  },
  {
   "cell_type": "code",
   "execution_count": 6,
   "id": "4e7b59f7",
   "metadata": {},
   "outputs": [
    {
     "data": {
      "image/png": "[encoded data removed]",
      "text/plain": [
       "<Figure size 432x288 with 1 Axes>"
      ]
     },
     "metadata": {
      "needs_background": "light"
     },
     "output_type": "display_data"
    }
   ],
   "source": [
    "accepted_mc_MH = accepted_mc_MH[1000:-1]\n",
    "\n",
    "plt.hist(accepted_mc,density=True,fill=False,edgecolor='blue',bins=25)\n",
    "plt.hist(accepted_mc_MH,density=True,fill=False,edgecolor='green',bins=25)\n",
    "plt.plot(thvals,post,color='red')\n",
    "plt.xlabel(\"$\\\\theta$\")\n",
    "plt.ylabel(\"$p(\\\\theta|X)$\")\n",
    "plt.show()"
   ]
  },
  {
   "cell_type": "markdown",
   "id": "aa3194b0",
   "metadata": {},
   "source": [
    "Note again that the resulting distribution resembles the direct calculation. However this time, we have many more samples in the distribution since the generation is more efficient. "
   ]
  },
  {
   "cell_type": "code",
   "execution_count": 7,
   "id": "e8da6aa8",
   "metadata": {},
   "outputs": [
    {
     "name": "stdout",
     "output_type": "stream",
     "text": [
      "fraction of accepted samples - simple MC 0.1721\n",
      "fraction of accepted samples - MC MH 0.5728\n"
     ]
    }
   ],
   "source": [
    "print(\"fraction of accepted samples - simple MC\",  float(len(accepted_mc))/len(mcprior))\n",
    "print(\"fraction of accepted samples - MC MH\",  float(len(accepted_mc_MH))/number_steps)"
   ]
  },
  {
   "cell_type": "markdown",
   "id": "6d0ae355",
   "metadata": {},
   "source": [
    "Of course, there are several packages out there that will perform markov chain mc for us based in `python`, `R`, or `c++` (eg see `pymc`, `MarkovChainMC` in `RooFit`...)"
   ]
  }
 ],
 "metadata": {
  "kernelspec": {
   "display_name": "Python 3 (ipykernel)",
   "language": "python",
   "name": "python3"
  },
  "language_info": {
   "codemirror_mode": {
    "name": "ipython",
    "version": 3
   },
   "file_extension": ".py",
   "mimetype": "text/x-python",
   "name": "python",
   "nbconvert_exporter": "python",
   "pygments_lexer": "ipython3",
   "version": "3.8.5"
  }
 },
 "nbformat": 4,
 "nbformat_minor": 5
}
